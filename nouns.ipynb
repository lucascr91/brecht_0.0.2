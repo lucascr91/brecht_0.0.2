{
 "cells": [
  {
   "cell_type": "code",
   "execution_count": 242,
   "metadata": {},
   "outputs": [],
   "source": [
    "from pattern.de import parse, split\n",
    "from pattern.de import gender, MALE, FEMALE, NEUTRAL, Text, Sentence, WORD, POS, CHUNK, PNP, REL, LEMMA\n",
    "from pattern.de import parsetree\n",
    "from pattern.de import conjugate\n",
    "from pattern.de import INFINITIVE, PRESENT, SG, SUBJUNCTIVE\n",
    "import random\n",
    "from operator import itemgetter\n",
    "import pickle\n",
    "from gensim.utils import deaccent"
   ]
  },
  {
   "cell_type": "code",
   "execution_count": 243,
   "metadata": {},
   "outputs": [],
   "source": [
    "from selenium import webdriver"
   ]
  },
  {
   "cell_type": "code",
   "execution_count": 244,
   "metadata": {},
   "outputs": [
    {
     "name": "stdout",
     "output_type": "stream",
     "text": [
      "Please, enter the txt file\n",
      "zeit.txt\n"
     ]
    }
   ],
   "source": [
    "print('Please, enter the txt file')\n",
    "arquivo = input()\n",
    "\n",
    "f =open(arquivo, 'r', encoding = 'utf-8')\n",
    "g = f.read()\n",
    "f.close()"
   ]
  },
  {
   "cell_type": "code",
   "execution_count": 245,
   "metadata": {},
   "outputs": [],
   "source": [
    "txt = parsetree(g, tags=True, chunk = False)"
   ]
  },
  {
   "cell_type": "code",
   "execution_count": 246,
   "metadata": {},
   "outputs": [],
   "source": [
    "sents = txt.sentences"
   ]
  },
  {
   "cell_type": "code",
   "execution_count": 247,
   "metadata": {},
   "outputs": [],
   "source": [
    "lista_elements = list(set([sents[i].words[j].string \n",
    "                           for i in range(0,len(sents)) \n",
    "                           for j in range(0,len(sents[i].words)) \n",
    "                           if sents[i].words[j].type=='NN']))\n",
    "lista_nouns_t = [deaccent(i.lower()) for i in lista_elements if i.isalpha()]"
   ]
  },
  {
   "cell_type": "code",
   "execution_count": 248,
   "metadata": {},
   "outputs": [
    {
     "name": "stdout",
     "output_type": "stream",
     "text": [
      "I identify 171 nouns\n",
      "How many words do you wanna play now?\n",
      "171\n"
     ]
    }
   ],
   "source": [
    "print(\"I identify \" + str(len(lista_nouns_t)) + \" nouns\")\n",
    "print('How many words do you wanna play now?')\n",
    "m= int(input())"
   ]
  },
  {
   "cell_type": "markdown",
   "metadata": {},
   "source": [
    "### Abrindo o dicionário"
   ]
  },
  {
   "cell_type": "code",
   "execution_count": 249,
   "metadata": {},
   "outputs": [],
   "source": [
    "pickle_in = open('dict.pickle', 'rb')\n",
    "my_dct = pickle.load(pickle_in)"
   ]
  },
  {
   "cell_type": "markdown",
   "metadata": {},
   "source": [
    "### Abrindo lista de não encontrados"
   ]
  },
  {
   "cell_type": "code",
   "execution_count": 250,
   "metadata": {},
   "outputs": [],
   "source": [
    "pickle_in2 = open('list.pkl', 'rb')\n",
    "lista_not_found = pickle.load(pickle_in2)"
   ]
  },
  {
   "cell_type": "markdown",
   "metadata": {},
   "source": [
    "### Criando um vetor com o número de palavras solicitadas pelo usuário a partir do número total de palavras do texto"
   ]
  },
  {
   "cell_type": "code",
   "execution_count": 251,
   "metadata": {},
   "outputs": [],
   "source": [
    "s = random.sample(list(range(0,len(lista_nouns_t))),m)"
   ]
  },
  {
   "cell_type": "code",
   "execution_count": 252,
   "metadata": {},
   "outputs": [],
   "source": [
    "word_vector = itemgetter(*s)(lista_nouns_t)"
   ]
  },
  {
   "cell_type": "markdown",
   "metadata": {},
   "source": [
    "### Selecionando palavras que não tem no dicionário"
   ]
  },
  {
   "cell_type": "code",
   "execution_count": 253,
   "metadata": {},
   "outputs": [],
   "source": [
    "lista_nodict = [i for i in word_vector if i not in list(my_dct.keys())]"
   ]
  },
  {
   "cell_type": "code",
   "execution_count": 254,
   "metadata": {},
   "outputs": [
    {
     "name": "stdout",
     "output_type": "stream",
     "text": [
      "I need to download the meaning of 38 nouns\n"
     ]
    }
   ],
   "source": [
    "print('I need to download the meaning of ' + str(len(lista_nodict)) + ' nouns')"
   ]
  },
  {
   "cell_type": "code",
   "execution_count": 255,
   "metadata": {},
   "outputs": [],
   "source": [
    "word_vector_final = list(set(word_vector)-set(lista_not_found))"
   ]
  },
  {
   "cell_type": "markdown",
   "metadata": {},
   "source": [
    "### Fazendo upgrade no dicionário com as palavras que faltam"
   ]
  },
  {
   "cell_type": "code",
   "execution_count": 256,
   "metadata": {},
   "outputs": [],
   "source": [
    "if list(set(word_vector_final)-set(my_dct.keys()))!=[]:\n",
    "    for n in list(set(word_vector_final)-set(my_dct.keys())):\n",
    "            driver = webdriver.Firefox()\n",
    "            driver.get('https://www.collinsdictionary.com/dictionary/german-english/{}'.format(n))\n",
    "            word = driver.find_elements_by_xpath('//div[@class=\"sense\"]')\n",
    "            if word!=[]:\n",
    "                my_dct[n] = word[0].text\n",
    "            else:\n",
    "                lista_not_found.append(n)\n",
    "            driver.close()"
   ]
  },
  {
   "cell_type": "markdown",
   "metadata": {},
   "source": [
    "### Salvando lista de não encontrados atualizada"
   ]
  },
  {
   "cell_type": "code",
   "execution_count": 257,
   "metadata": {},
   "outputs": [],
   "source": [
    "pickle_out = open('list.pkl', 'wb')\n",
    "pickle.dump(list(set(lista_not_found)), pickle_out)\n",
    "pickle_out.close()"
   ]
  },
  {
   "cell_type": "markdown",
   "metadata": {},
   "source": [
    "### Salvando o dicionário atualizado"
   ]
  },
  {
   "cell_type": "code",
   "execution_count": 258,
   "metadata": {},
   "outputs": [],
   "source": [
    "pickle_out = open('dict.pickle', 'wb')\n",
    "pickle.dump(my_dct, pickle_out)\n",
    "pickle_out.close()"
   ]
  },
  {
   "cell_type": "markdown",
   "metadata": {},
   "source": [
    "### Selecionando palavras encontradas"
   ]
  },
  {
   "cell_type": "code",
   "execution_count": 259,
   "metadata": {},
   "outputs": [],
   "source": [
    "current_dict = {k: my_dct[k] for k in word_vector if k in my_dct}"
   ]
  },
  {
   "cell_type": "code",
   "execution_count": 260,
   "metadata": {},
   "outputs": [
    {
     "name": "stdout",
     "output_type": "stream",
     "text": [
      "I could not find the meaning of 39 words.\n",
      "So you will play the game with 132\n"
     ]
    }
   ],
   "source": [
    "print('I could not find the meaning of '+ str(len(word_vector)-len(current_dict)) + ' words.' + '\\n' +\n",
    "'So you will play the game with ' + str(len(current_dict)) )"
   ]
  },
  {
   "cell_type": "code",
   "execution_count": 261,
   "metadata": {},
   "outputs": [
    {
     "name": "stdout",
     "output_type": "stream",
     "text": [
      "Do you know the meaning of the noun \"bastelt\"?\n",
      "\n",
      "Do you know the meaning of the noun \"gluckte\"?\n",
      "\n",
      "Do you know the meaning of the noun \"einjahrigen\"?\n",
      "\n",
      "Do you know the meaning of the noun \"vorganger\"?\n",
      "\n",
      "Do you know the meaning of the noun \"podium\"?\n",
      "\n",
      "Do you know the meaning of the noun \"einfluss\"?\n",
      "\n",
      "Do you know the meaning of the noun \"polizeischutz\"?\n",
      "\n",
      "Do you know the meaning of the noun \"vorsitzende\"?\n",
      "\n",
      "Do you know the meaning of the noun \"hand\"?\n",
      "\n",
      "Do you know the meaning of the noun \"triumph\"?\n",
      "\n",
      "Do you know the meaning of the noun \"politik\"?\n",
      "\n",
      "Do you know the meaning of the noun \"csu\"?\n",
      "\n",
      "Do you know the meaning of the noun \"hinterkopfe\"?\n",
      "\n",
      "Do you know the meaning of the noun \"mehr\"?\n",
      "\n",
      "Do you know the meaning of the noun \"morgen\"?\n",
      "\n",
      "Do you know the meaning of the noun \"einfache\"?\n",
      "\n",
      "Do you know the meaning of the noun \"blaues\"?\n",
      "\n",
      "Do you know the meaning of the noun \"zugezogen\"?\n",
      "\n",
      "Do you know the meaning of the noun \"wahlen\"?\n",
      "\n",
      "Do you know the meaning of the noun \"plenarsaals\"?\n",
      "\n",
      "Do you know the meaning of the noun \"funktion\"?\n",
      "\n",
      "Do you know the meaning of the noun \"verlust\"?\n",
      "\n",
      "Do you know the meaning of the noun \"parteibuch\"?\n",
      "\n",
      "Do you know the meaning of the noun \"herrscht\"?\n",
      "\n",
      "Do you know the meaning of the noun \"oder\"?\n",
      "\n",
      "Do you know the meaning of the noun \"buhne\"?\n",
      "\n",
      "Do you know the meaning of the noun \"partei\"?\n",
      "\n",
      "Do you know the meaning of the noun \"vorstellung\"?\n",
      "\n",
      "Do you know the meaning of the noun \"marine\"?\n",
      "\n",
      "Do you know the meaning of the noun \"grenze\"?\n",
      "\n",
      "Do you know the meaning of the noun \"landtag\"?\n",
      "\n",
      "Do you know the meaning of the noun \"mir\"?\n",
      "\n",
      "Do you know the meaning of the noun \"handschrift\"?\n",
      "\n",
      "Do you know the meaning of the noun \"vertrauen\"?\n",
      "\n",
      "Do you know the meaning of the noun \"vorab\"?\n",
      "\n",
      "Do you know the meaning of the noun \"lehrer\"?\n",
      "\n",
      "Do you know the meaning of the noun \"rechtsruck\"?\n",
      "\n",
      "Do you know the meaning of the noun \"abgehoben\"?\n",
      "\n",
      "Do you know the meaning of the noun \"blick\"?\n",
      "\n",
      "Do you know the meaning of the noun \"leitsatzen\"?\n",
      "\n",
      "Do you know the meaning of the noun \"anzeige\"?\n",
      "\n",
      "Do you know the meaning of the noun \"konservative\"?\n",
      "\n",
      "Do you know the meaning of the noun \"eilt\"?\n",
      "\n",
      "Do you know the meaning of the noun \"rentner\"?\n",
      "\n",
      "Do you know the meaning of the noun \"lucke\"?\n",
      "\n",
      "Do you know the meaning of the noun \"sollten\"?\n",
      "\n",
      "Do you know the meaning of the noun \"erinnert\"?\n",
      "\n",
      "Do you know the meaning of the noun \"wende\"?\n",
      "\n",
      "Do you know the meaning of the noun \"wirbt\"?\n",
      "\n",
      "Do you know the meaning of the noun \"treffen\"?\n",
      "\n",
      "Do you know the meaning of the noun \"zeit\"?\n",
      "\n",
      "Do you know the meaning of the noun \"abend\"?\n",
      "\n",
      "Do you know the meaning of the noun \"abgeordnete\"?\n",
      "\n",
      "Do you know the meaning of the noun \"neugeborenen\"?\n",
      "\n",
      "Do you know the meaning of the noun \"reihe\"?\n",
      "\n",
      "Do you know the meaning of the noun \"uhr\"?\n",
      "\n",
      "Do you know the meaning of the noun \"struktur\"?\n",
      "\n",
      "Do you know the meaning of the noun \"kommunalwahlen\"?\n",
      "\n",
      "Do you know the meaning of the noun \"schule\"?\n",
      "\n",
      "Do you know the meaning of the noun \"deutschland\"?\n",
      "\n",
      "Do you know the meaning of the noun \"starken\"?\n",
      "\n",
      "Do you know the meaning of the noun \"rednerpult\"?\n",
      "\n",
      "Do you know the meaning of the noun \"ort\"?\n",
      "\n",
      "Do you know the meaning of the noun \"anhanger\"?\n",
      "\n",
      "Do you know the meaning of the noun \"prozent\"?\n",
      "\n",
      "Do you know the meaning of the noun \"uberhitzten\"?\n",
      "\n",
      "Do you know the meaning of the noun \"schockierte\"?\n",
      "\n",
      "Do you know the meaning of the noun \"ressort\"?\n",
      "\n",
      "Do you know the meaning of the noun \"durchsucht\"?\n",
      "\n",
      "Do you know the meaning of the noun \"nationalisten\"?\n",
      "\n",
      "Do you know the meaning of the noun \"mitgliedsbeitrage\"?\n",
      "\n",
      "Do you know the meaning of the noun \"mitglieder\"?\n",
      "\n",
      "Do you know the meaning of the noun \"applaudiert\"?\n",
      "\n",
      "Do you know the meaning of the noun \"gangen\"?\n",
      "\n",
      "Do you know the meaning of the noun \"macht\"?\n",
      "\n",
      "Do you know the meaning of the noun \"skepsis\"?\n",
      "\n",
      "Do you know the meaning of the noun \"kandidaten\"?\n",
      "\n",
      "Do you know the meaning of the noun \"sturzte\"?\n",
      "\n",
      "Do you know the meaning of the noun \"frau\"?\n",
      "\n",
      "Do you know the meaning of the noun \"lokal\"?\n",
      "\n",
      "Do you know the meaning of the noun \"rentnerinnen\"?\n",
      "\n",
      "Do you know the meaning of the noun \"blauen\"?\n",
      "\n",
      "Do you know the meaning of the noun \"parteiprogramm\"?\n",
      "\n",
      "Do you know the meaning of the noun \"wahlergebnis\"?\n",
      "\n",
      "Do you know the meaning of the noun \"blieb\"?\n",
      "\n",
      "Do you know the meaning of the noun \"isoliert\"?\n",
      "\n",
      "Do you know the meaning of the noun \"sohn\"?\n",
      "\n",
      "Do you know the meaning of the noun \"ubergibt\"?\n",
      "\n",
      "Do you know the meaning of the noun \"parteien\"?\n",
      "\n",
      "Do you know the meaning of the noun \"diskussion\"?\n",
      "\n",
      "Do you know the meaning of the noun \"mikrofon\"?\n",
      "\n",
      "Do you know the meaning of the noun \"referiert\"?\n",
      "\n",
      "Do you know the meaning of the noun \"kind\"?\n",
      "\n",
      "Do you know the meaning of the noun \"schmerzt\"?\n",
      "\n",
      "Do you know the meaning of the noun \"lehrplan\"?\n",
      "\n",
      "Do you know the meaning of the noun \"franzosin\"?\n",
      "\n",
      "Do you know the meaning of the noun \"menschen\"?\n",
      "\n",
      "Do you know the meaning of the noun \"gesellschaft\"?\n",
      "\n",
      "Do you know the meaning of the noun \"entfremdung\"?\n",
      "\n",
      "Do you know the meaning of the noun \"wahl\"?\n",
      "\n",
      "Do you know the meaning of the noun \"bilder\"?\n",
      "\n",
      "Do you know the meaning of the noun \"nutzte\"?\n",
      "\n",
      "Do you know the meaning of the noun \"bild\"?\n",
      "\n",
      "Do you know the meaning of the noun \"bewegung\"?\n",
      "\n",
      "Do you know the meaning of the noun \"vertrauten\"?\n",
      "\n",
      "Do you know the meaning of the noun \"parteimitgliedern\"?\n",
      "\n",
      "Do you know the meaning of the noun \"brannte\"?\n",
      "\n",
      "Do you know the meaning of the noun \"abgeordneten\"?\n",
      "\n",
      "Do you know the meaning of the noun \"sicherheit\"?\n",
      "\n",
      "Do you know the meaning of the noun \"posten\"?\n",
      "\n",
      "Do you know the meaning of the noun \"raum\"?\n",
      "\n",
      "Do you know the meaning of the noun \"projekt\"?\n",
      "\n",
      "Do you know the meaning of the noun \"blaue\"?\n",
      "\n",
      "Do you know the meaning of the noun \"bildungspolitik\"?\n",
      "\n",
      "Do you know the meaning of the noun \"seite\"?\n",
      "\n",
      "Do you know the meaning of the noun \"idee\"?\n",
      "\n",
      "Do you know the meaning of the noun \"verkundete\"?\n",
      "\n",
      "Do you know the meaning of the noun \"erhellt\"?\n",
      "\n",
      "Do you know the meaning of the noun \"sommer\"?\n",
      "\n",
      "Do you know the meaning of the noun \"ruckzug\"?\n",
      "\n",
      "Do you know the meaning of the noun \"richtung\"?\n",
      "\n",
      "Do you know the meaning of the noun \"handy\"?\n",
      "\n",
      "Do you know the meaning of the noun \"prozess\"?\n",
      "\n",
      "Do you know the meaning of the noun \"saal\"?\n",
      "\n",
      "Do you know the meaning of the noun \"grad\"?\n",
      "\n",
      "Do you know the meaning of the noun \"minuten\"?\n",
      "\n",
      "Do you know the meaning of the noun \"nahe\"?\n",
      "\n",
      "Do you know the meaning of the noun \"gegenseitiges\"?\n",
      "\n",
      "Do you know the meaning of the noun \"leitet\"?\n",
      "\n",
      "Do you know the meaning of the noun \"publikum\"?\n",
      "\n",
      "Do you know the meaning of the noun \"wirtschaft\"?\n",
      "\n",
      "Do you know the meaning of the noun \"pressekonferenz\"?\n",
      "\n",
      "Congratulations! You know all nouns from this text!\n",
      "Do you want to play this game again?\n",
      "\n",
      "Bye!\n"
     ]
    }
   ],
   "source": [
    "answer2 = 'Ja'\n",
    "\n",
    "while answer2 == 'Ja':\n",
    "    my_dct2 = current_dict.copy()\n",
    "    somenoun = random.sample(my_dct2.keys(), 1)[0]\n",
    "    while somenoun !='':\n",
    "        print('Do you know the meaning of the noun \"{}\"?'.format(somenoun))\n",
    "        answer1 = input()\n",
    "        if answer1 == 'Nein':\n",
    "            print(my_dct2[somenoun])\n",
    "            somenoun = random.sample(my_dct2.keys(), 1)[0]\n",
    "        else:\n",
    "            del my_dct2[somenoun]\n",
    "            if my_dct2 !={}:\n",
    "                somenoun = random.sample(my_dct2.keys(), 1)[0]\n",
    "            else:\n",
    "                print('Congratulations! You know all nouns from this text!')\n",
    "                somenoun =''\n",
    "            \n",
    "    print('Do you want to play this game again?')\n",
    "    answer2 = input()\n",
    "else:\n",
    "    print(\"Bye!\")"
   ]
  }
 ],
 "metadata": {
  "kernelspec": {
   "display_name": "Python 3",
   "language": "python",
   "name": "python3"
  },
  "language_info": {
   "codemirror_mode": {
    "name": "ipython",
    "version": 3
   },
   "file_extension": ".py",
   "mimetype": "text/x-python",
   "name": "python",
   "nbconvert_exporter": "python",
   "pygments_lexer": "ipython3",
   "version": "3.6.6"
  }
 },
 "nbformat": 4,
 "nbformat_minor": 2
}
