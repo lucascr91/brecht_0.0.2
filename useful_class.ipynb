{
 "cells": [
  {
   "cell_type": "code",
   "execution_count": 18,
   "metadata": {},
   "outputs": [],
   "source": [
    "import pickle\n",
    "import spacy\n",
    "from selenium import webdriver"
   ]
  },
  {
   "cell_type": "markdown",
   "metadata": {},
   "source": [
    "## Opening local dictionary"
   ]
  },
  {
   "cell_type": "code",
   "execution_count": null,
   "metadata": {},
   "outputs": [],
   "source": [
    "pickle_in = open('brecht_dict.pkl', 'rb')\n",
    "brecht_dict = pickle.load(pickle_in)"
   ]
  },
  {
   "cell_type": "markdown",
   "metadata": {},
   "source": [
    "## Opening not found list"
   ]
  },
  {
   "cell_type": "code",
   "execution_count": null,
   "metadata": {},
   "outputs": [],
   "source": [
    "pickle_in2 = open('lista_not_found.pkl', 'rb')\n",
    "lista_not_found = pickle.load(pickle_in2)"
   ]
  },
  {
   "cell_type": "code",
   "execution_count": 2,
   "metadata": {},
   "outputs": [],
   "source": [
    "class Words():\n",
    "    def __init__(self, value, g_class, meaning = 'not found', first_meaning = True):\n",
    "        self.value = value\n",
    "        self.g_class = g_class\n",
    "        self.meaning = meaning\n",
    "        self.first_meaning = first_meaning\n",
    "        if self.value in brecht.keys():\n",
    "            self.meaning = brecht[self.value]\n",
    "        else:\n",
    "            driver = webdriver.Firefox()\n",
    "            driver.get('https://de.thefreedictionary.com/{}'.format('Wirtschaft'))\n",
    "            word = driver.find_elements_by_xpath('//div[@id=\"Definition\"]')\n",
    "            if word!=[]:\n",
    "                brecht_dict[self.value] = word[0].text\n",
    "                if self.first_meaning:\n",
    "                    self.meaning = word[0].text[:word[0].text.find('2.')]\n",
    "                else:\n",
    "                    self.meaning = word[0].text\n",
    "            else:\n",
    "                lista_not_found.append(self.value)\n",
    "            driver.close()\n",
    "\n",
    "    def __str__(self):\n",
    "        return self.value"
   ]
  },
  {
   "cell_type": "code",
   "execution_count": 3,
   "metadata": {},
   "outputs": [],
   "source": [
    "word1 = Words('Beispiel', g_class = 'noun')"
   ]
  },
  {
   "cell_type": "code",
   "execution_count": 5,
   "metadata": {},
   "outputs": [
    {
     "name": "stdout",
     "output_type": "stream",
     "text": [
      "example\n",
      "zum Beispiel for example\n",
      "wie zum Beispiel such as\n",
      "jdm ein Beispiel geben to set sb an example\n",
      "sich dative ein Beispiel an jdm nehmen to take a leaf out of sb’s book\n",
      "sich dative ein Beispiel an etw dative nehmen to take sth as an example\n",
      "mit gutem Beispiel vorangehen to set a good example\n"
     ]
    }
   ],
   "source": [
    "print(word1.meaning)"
   ]
  },
  {
   "cell_type": "code",
   "execution_count": null,
   "metadata": {},
   "outputs": [],
   "source": [
    "if __name__ == '__main__': # para testar no terminal\n",
    "    word1 = Words('Beispiel', g_class = 'noun')\n",
    "    print(word1)\n",
    "    print(word1.g_class)"
   ]
  }
 ],
 "metadata": {
  "kernelspec": {
   "display_name": "Python 3",
   "language": "python",
   "name": "python3"
  },
  "language_info": {
   "codemirror_mode": {
    "name": "ipython",
    "version": 3
   },
   "file_extension": ".py",
   "mimetype": "text/x-python",
   "name": "python",
   "nbconvert_exporter": "python",
   "pygments_lexer": "ipython3",
   "version": "3.7.5"
  }
 },
 "nbformat": 4,
 "nbformat_minor": 2
}
