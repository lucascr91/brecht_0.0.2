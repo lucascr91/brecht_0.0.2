{
 "cells": [
  {
   "cell_type": "code",
   "execution_count": null,
   "metadata": {},
   "outputs": [],
   "source": [
    "#zerar dicionários locais\n",
    "\n",
    "import pickle\n",
    "\n",
    "brecht_not_found = []\n",
    "brecht_dict = {}\n",
    "\n",
    "#not found\n",
    "pickle_out = open('brecht_lista_not_found.pkl', 'wb')\n",
    "pickle.dump(list(set(brecht_not_found)), pickle_out)\n",
    "pickle_out.close()\n",
    "\n",
    "#dicionario\n",
    "pickle_out = open('brecht_dict.pkl', 'wb')\n",
    "pickle.dump(brecht_dict, pickle_out)\n",
    "pickle_out.close()"
   ]
  }
 ],
 "metadata": {
  "kernelspec": {
   "display_name": "Python 3",
   "language": "python",
   "name": "python3"
  },
  "language_info": {
   "codemirror_mode": {
    "name": "ipython",
    "version": 3
   },
   "file_extension": ".py",
   "mimetype": "text/x-python",
   "name": "python",
   "nbconvert_exporter": "python",
   "pygments_lexer": "ipython3",
   "version": "3.7.5"
  }
 },
 "nbformat": 4,
 "nbformat_minor": 2
}
