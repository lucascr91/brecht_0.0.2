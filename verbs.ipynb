{
 "cells": [
  {
   "cell_type": "code",
   "execution_count": 8,
   "metadata": {},
   "outputs": [],
   "source": [
    "from pattern.de import parse, split\n",
    "from pattern.de import gender, MALE, FEMALE, NEUTRAL, Text, Sentence, WORD, POS, CHUNK, PNP, REL, LEMMA\n",
    "from pattern.de import parsetree\n",
    "from pattern.de import conjugate\n",
    "from pattern.de import INFINITIVE, PRESENT, SG, SUBJUNCTIVE\n",
    "import random\n",
    "from operator import itemgetter\n",
    "import pickle\n",
    "from gensim.utils import deaccent"
   ]
  },
  {
   "cell_type": "code",
   "execution_count": 9,
   "metadata": {},
   "outputs": [],
   "source": [
    "from selenium import webdriver"
   ]
  },
  {
   "cell_type": "code",
   "execution_count": 10,
   "metadata": {},
   "outputs": [
    {
     "name": "stdout",
     "output_type": "stream",
     "text": [
      "Please, enter the txt file\n",
      "zeit.txt\n"
     ]
    }
   ],
   "source": [
    "print('Please, enter the txt file')\n",
    "arquivo = input()\n",
    "\n",
    "f =open(arquivo, 'r', encoding = 'utf-8')\n",
    "g = f.read()\n",
    "f.close()"
   ]
  },
  {
   "cell_type": "code",
   "execution_count": 11,
   "metadata": {},
   "outputs": [],
   "source": [
    "txt = parsetree(g, tags=True, chunk = False)"
   ]
  },
  {
   "cell_type": "code",
   "execution_count": 12,
   "metadata": {},
   "outputs": [],
   "source": [
    "sents = txt.sentences"
   ]
  },
  {
   "cell_type": "code",
   "execution_count": 13,
   "metadata": {},
   "outputs": [],
   "source": [
    "lista_elements = list(set([conjugate(str(sents[i].verbs[0]), INFINITIVE) for i in range(0,len(sents)) \n",
    "                         if sents[i].verbs != []]))\n",
    "lista_verbos_t = [i for i in lista_elements if i.isalpha()]"
   ]
  },
  {
   "cell_type": "code",
   "execution_count": 14,
   "metadata": {},
   "outputs": [
    {
     "name": "stdout",
     "output_type": "stream",
     "text": [
      "I identify 30 verbs\n",
      "How many words do you wanna play now?\n",
      "5\n"
     ]
    }
   ],
   "source": [
    "print(\"I identify \" + str(len(lista_verbos_t)) + \" verbs\")\n",
    "print('How many words do you wanna play now?')\n",
    "m= int(input())"
   ]
  },
  {
   "cell_type": "markdown",
   "metadata": {},
   "source": [
    "### Abrindo o dicionário"
   ]
  },
  {
   "cell_type": "code",
   "execution_count": 15,
   "metadata": {},
   "outputs": [],
   "source": [
    "pickle_in = open('dict.pickle', 'rb')\n",
    "my_dct = pickle.load(pickle_in)"
   ]
  },
  {
   "cell_type": "markdown",
   "metadata": {},
   "source": [
    "### Abrindo lista de não encontrados"
   ]
  },
  {
   "cell_type": "code",
   "execution_count": 16,
   "metadata": {},
   "outputs": [],
   "source": [
    "pickle_in2 = open('list.pkl', 'rb')\n",
    "lista_not_found = pickle.load(pickle_in2)"
   ]
  },
  {
   "cell_type": "markdown",
   "metadata": {},
   "source": [
    "### Criando um vetor com o número de palavras solicitadas pelo usuário a partir do número total de palavras do texto"
   ]
  },
  {
   "cell_type": "code",
   "execution_count": 17,
   "metadata": {},
   "outputs": [],
   "source": [
    "s = random.sample(list(range(0,len(lista_verbos_t))),m)"
   ]
  },
  {
   "cell_type": "code",
   "execution_count": 18,
   "metadata": {},
   "outputs": [],
   "source": [
    "word_vector = itemgetter(*s)(lista_verbos_t)"
   ]
  },
  {
   "cell_type": "markdown",
   "metadata": {},
   "source": [
    "### Selecionando palavras que não tem no dicionário"
   ]
  },
  {
   "cell_type": "code",
   "execution_count": 19,
   "metadata": {},
   "outputs": [],
   "source": [
    "lista_nodict = [i for i in word_vector if i not in list(my_dct.keys())]"
   ]
  },
  {
   "cell_type": "code",
   "execution_count": 20,
   "metadata": {},
   "outputs": [
    {
     "name": "stdout",
     "output_type": "stream",
     "text": [
      "I need to download the meaning of 5 verbs\n"
     ]
    }
   ],
   "source": [
    "print('I need to download the meaning of ' + str(len(lista_nodict)) + ' verbs')"
   ]
  },
  {
   "cell_type": "code",
   "execution_count": 21,
   "metadata": {},
   "outputs": [],
   "source": [
    "word_vector_final = [i for i in word_vector if i not in lista_not_found]"
   ]
  },
  {
   "cell_type": "markdown",
   "metadata": {},
   "source": [
    "### Fazendo upgrade no dicionário com as palavras que faltam"
   ]
  },
  {
   "cell_type": "code",
   "execution_count": 22,
   "metadata": {},
   "outputs": [],
   "source": [
    "for n in word_vector_final:\n",
    "    if n not in my_dct.keys():\n",
    "        d = deaccent(n)\n",
    "        driver = webdriver.Firefox()\n",
    "        driver.get('https://www.collinsdictionary.com/dictionary/german-english/{}'.format(d))\n",
    "        word = driver.find_elements_by_xpath('//div[@class=\"sense\"]')\n",
    "        if word!=[]:\n",
    "            my_dct[n] = word[0].text\n",
    "        else:\n",
    "            lista_not_found.append(d)\n",
    "        driver.close()"
   ]
  },
  {
   "cell_type": "markdown",
   "metadata": {},
   "source": [
    "### Salvando lista de não encontrados atualizada"
   ]
  },
  {
   "cell_type": "code",
   "execution_count": 23,
   "metadata": {},
   "outputs": [],
   "source": [
    "pickle_out = open('list.pkl', 'wb')\n",
    "pickle.dump(lista_not_found, pickle_out)\n",
    "pickle_out.close()"
   ]
  },
  {
   "cell_type": "markdown",
   "metadata": {},
   "source": [
    "### Salvando o dicionário atualizado"
   ]
  },
  {
   "cell_type": "code",
   "execution_count": 24,
   "metadata": {},
   "outputs": [],
   "source": [
    "pickle_out = open('dict.pickle', 'wb')\n",
    "pickle.dump(my_dct, pickle_out)\n",
    "pickle_out.close()"
   ]
  },
  {
   "cell_type": "markdown",
   "metadata": {},
   "source": [
    "### Selecionando palavras encontradas"
   ]
  },
  {
   "cell_type": "code",
   "execution_count": 25,
   "metadata": {},
   "outputs": [],
   "source": [
    "current_dict = {k: my_dct[k] for k in word_vector if k in my_dct}"
   ]
  },
  {
   "cell_type": "code",
   "execution_count": 26,
   "metadata": {},
   "outputs": [
    {
     "name": "stdout",
     "output_type": "stream",
     "text": [
      "I could not find the meaning of 1 words.\n",
      "So you will play the game with 4\n"
     ]
    }
   ],
   "source": [
    "print('I could not find the meaning of '+ str(len(word_vector)-len(current_dict)) + ' words.' + '\\n' +\n",
    "'So you will play the game with ' + str(len(current_dict)) )"
   ]
  },
  {
   "cell_type": "code",
   "execution_count": 27,
   "metadata": {},
   "outputs": [
    {
     "name": "stdout",
     "output_type": "stream",
     "text": [
      "Do you know the meaning of the noun \"blicken\"?\n",
      "Ja\n",
      "Do you know the meaning of the noun \"haben\"?\n",
      "Ja\n",
      "Do you know the meaning of the noun \"nominieren\"?\n",
      "Ja\n",
      "Do you know the meaning of the noun \"sollen\"?\n",
      "Ja\n",
      "Congratulations! You know all nouns from this text!\n",
      "Do you want to play this game again?\n",
      "Nein\n",
      "Bye!\n"
     ]
    }
   ],
   "source": [
    "answer2 = 'Ja'\n",
    "\n",
    "while answer2 == 'Ja':\n",
    "    my_dct2 = current_dict.copy()\n",
    "    someverb = random.sample(my_dct2.keys(), 1)[0]\n",
    "    while someverb !='':\n",
    "        print('Do you know the meaning of the noun \"{}\"?'.format(someverb))\n",
    "        answer1 = input()\n",
    "        if answer1 == 'Nein':\n",
    "            print(my_dct2[someverb])\n",
    "            someverb = random.sample(my_dct2.keys(), 1)[0]\n",
    "        else:\n",
    "            del my_dct2[someverb]\n",
    "            if my_dct2 !={}:\n",
    "                someverb = random.sample(my_dct2.keys(), 1)[0]\n",
    "            else:\n",
    "                print('Congratulations! You know all nouns from this text!')\n",
    "                someverb =''\n",
    "            \n",
    "    print('Do you want to play this game again?')\n",
    "    answer2 = input()\n",
    "else:\n",
    "    print(\"Bye!\")"
   ]
  }
 ],
 "metadata": {
  "kernelspec": {
   "display_name": "Python 3",
   "language": "python",
   "name": "python3"
  },
  "language_info": {
   "codemirror_mode": {
    "name": "ipython",
    "version": 3
   },
   "file_extension": ".py",
   "mimetype": "text/x-python",
   "name": "python",
   "nbconvert_exporter": "python",
   "pygments_lexer": "ipython3",
   "version": "3.6.6"
  }
 },
 "nbformat": 4,
 "nbformat_minor": 2
}
