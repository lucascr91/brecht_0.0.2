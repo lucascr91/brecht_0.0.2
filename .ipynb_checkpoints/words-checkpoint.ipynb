{
 "cells": [
  {
   "cell_type": "code",
   "execution_count": 2,
   "metadata": {},
   "outputs": [],
   "source": [
    "doc = nlp(text)"
   ]
  },
  {
   "cell_type": "code",
   "execution_count": 3,
   "metadata": {},
   "outputs": [
    {
     "data": {
      "text/plain": [
       "['unterstützen',\n",
       " 'verschaffen',\n",
       " 'gewinnen',\n",
       " 'ausstatten',\n",
       " 'stammen',\n",
       " 'streben',\n",
       " 'stellen',\n",
       " 'bedeuten',\n",
       " 'gewinnen',\n",
       " 'einnehmen',\n",
       " 'sollen',\n",
       " 'ermorden',\n",
       " 'hinterlassen',\n",
       " 'erinnern',\n",
       " 'begehen',\n",
       " 'bringen',\n",
       " 'unterstützen',\n",
       " 'auseinandersetzt',\n",
       " 'begrüßen',\n",
       " 'signalisieren',\n",
       " 'einsetzen',\n",
       " 'tun',\n",
       " 'halten',\n",
       " 'aufrufen',\n",
       " 'tun',\n",
       " 'fördern',\n",
       " 'tun',\n",
       " 'aufseiten',\n",
       " 'zeigen']"
      ]
     },
     "execution_count": 3,
     "metadata": {},
     "output_type": "execute_result"
    }
   ],
   "source": [
    "verbs = [token.lemma_ for token in doc if token.pos_ == \"VERB\"]\n",
    "\n",
    "verbs"
   ]
  },
  {
   "cell_type": "code",
   "execution_count": null,
   "metadata": {},
   "outputs": [],
   "source": [
    "pickle_in = open('lista_voc.pkl', 'rb')\n",
    "lista_voc = pickle.load(pickle_in)"
   ]
  },
  {
   "cell_type": "code",
   "execution_count": null,
   "metadata": {},
   "outputs": [],
   "source": [
    "unique_voc = list(set(lista_voc))\n",
    "unique_txt = list(set(lista_nouns_t))"
   ]
  },
  {
   "cell_type": "code",
   "execution_count": null,
   "metadata": {},
   "outputs": [],
   "source": [
    "intersection = [i for i in unique_txt if i in unique_voc]"
   ]
  },
  {
   "cell_type": "code",
   "execution_count": null,
   "metadata": {},
   "outputs": [],
   "source": [
    "rz = len(intersection)/len(lista_nouns_t)"
   ]
  },
  {
   "cell_type": "code",
   "execution_count": null,
   "metadata": {},
   "outputs": [],
   "source": [
    "print(\"I identify \" + str(len(lista_nouns_t)) + \" unique words.\")\n",
    "print('You know ' + str(round(rz*100,2)) + '% of them')\n",
    "print('How many words do you wanna play now?')\n",
    "m= int(input())"
   ]
  },
  {
   "cell_type": "markdown",
   "metadata": {},
   "source": [
    "### Abrindo o dicionário"
   ]
  },
  {
   "cell_type": "code",
   "execution_count": null,
   "metadata": {},
   "outputs": [],
   "source": [
    "pickle_in = open('dict.pickle', 'rb')\n",
    "my_dct = pickle.load(pickle_in)"
   ]
  },
  {
   "cell_type": "markdown",
   "metadata": {},
   "source": [
    "### Abrindo lista de não encontrados"
   ]
  },
  {
   "cell_type": "code",
   "execution_count": null,
   "metadata": {},
   "outputs": [],
   "source": [
    "pickle_in2 = open('lista_not_found.pkl', 'rb')\n",
    "lista_not_found = pickle.load(pickle_in2)"
   ]
  },
  {
   "cell_type": "markdown",
   "metadata": {},
   "source": [
    "### Salvando o dicionário atualizado"
   ]
  },
  {
   "cell_type": "code",
   "execution_count": 7,
   "metadata": {},
   "outputs": [],
   "source": [
    "pickle_out = open('brecht_dict.pkl', 'wb')\n",
    "pickle.dump(brecht_dict, pickle_out)\n",
    "pickle_out.close()"
   ]
  },
  {
   "cell_type": "markdown",
   "metadata": {},
   "source": [
    "### Selecionando palavras encontradas"
   ]
  },
  {
   "cell_type": "code",
   "execution_count": null,
   "metadata": {},
   "outputs": [],
   "source": [
    "current_dict = {k: my_dct[k] for k in word_vector_final if k in my_dct}"
   ]
  },
  {
   "cell_type": "code",
   "execution_count": null,
   "metadata": {},
   "outputs": [],
   "source": [
    "print('I could not find the meaning of '+ str(len(word_vector)-len(current_dict)) + ' words.' + '\\n' +\n",
    "'So you will play the game with ' + str(len(current_dict)) )"
   ]
  },
  {
   "cell_type": "code",
   "execution_count": null,
   "metadata": {},
   "outputs": [],
   "source": [
    "answer2 = 'Ja'\n",
    "\n",
    "while answer2 == 'Ja':\n",
    "    my_dct2 = current_dict.copy()\n",
    "    somenoun = random.sample(my_dct2.keys(), 1)[0]\n",
    "    while somenoun !='':\n",
    "        print('Do you know the meaning of the word \"{}\"?'.format(somenoun))\n",
    "        answer1 = input()\n",
    "        if answer1 == 'Nein':\n",
    "            print(Fore.YELLOW + my_dct2[somenoun])\n",
    "            print(Style.RESET_ALL)\n",
    "            somenoun = random.sample(my_dct2.keys(), 1)[0]\n",
    "        elif answer1 == 'vocabulary':\n",
    "            lista_voc.append(somenoun)\n",
    "            del my_dct2[somenoun]\n",
    "            if my_dct2 !={}:\n",
    "                somenoun = random.sample(my_dct2.keys(), 1)[0]\n",
    "            else:\n",
    "                print('Congratulations! You know all words from this text!')\n",
    "                somenoun =''\n",
    "        elif answer1 == 'wichtig':\n",
    "            f = open('wichtig.txt', 'r')\n",
    "            h = f.read()\n",
    "            f.close()\n",
    "            l = h + ' '+ str(somenoun)\n",
    "            f = open('wichtig.txt', 'w')\n",
    "            f.write(l)\n",
    "            f.close()         \n",
    "            \n",
    "#             del my_dct2[somenoun]\n",
    "            if my_dct2 !={}:\n",
    "                somenoun = random.sample(my_dct2.keys(), 1)[0]\n",
    "            else:\n",
    "                print('Congratulations! You know all words from this text!')\n",
    "                somenoun =''\n",
    "        else:\n",
    "            del my_dct2[somenoun]\n",
    "            if my_dct2 !={}:\n",
    "                somenoun = random.sample(my_dct2.keys(), 1)[0]\n",
    "            else:\n",
    "                print('Congratulations! You know all words from this text!')\n",
    "                somenoun =''\n",
    "            \n",
    "    print('Do you want to play this game again?')\n",
    "    answer2 = input()\n",
    "else:\n",
    "    print(\"Bye!\")"
   ]
  },
  {
   "cell_type": "markdown",
   "metadata": {},
   "source": [
    "### Salvando vocabulário (lista)"
   ]
  },
  {
   "cell_type": "code",
   "execution_count": null,
   "metadata": {},
   "outputs": [],
   "source": [
    "pickle_out = open('lista_voc.pkl', 'wb')\n",
    "pickle.dump(list(set(lista_voc)), pickle_out)\n",
    "pickle_out.close()"
   ]
  },
  {
   "cell_type": "code",
   "execution_count": null,
   "metadata": {},
   "outputs": [],
   "source": [
    "print('Now you know ' + str(len(list(set(lista_voc)))) + ' words in German')"
   ]
  },
  {
   "cell_type": "markdown",
   "metadata": {},
   "source": [
    "### Criando um vetor com o número de palavras solicitadas pelo usuário a partir do número total de palavras do texto"
   ]
  },
  {
   "cell_type": "code",
   "execution_count": null,
   "metadata": {},
   "outputs": [],
   "source": [
    "s = random.sample(list(range(0,len(lista_nouns_t))),m)"
   ]
  },
  {
   "cell_type": "code",
   "execution_count": null,
   "metadata": {},
   "outputs": [],
   "source": [
    "word_vector = itemgetter(*s)(lista_nouns_t)"
   ]
  },
  {
   "cell_type": "markdown",
   "metadata": {},
   "source": [
    "### Selecionando palavras que não tem no dicionário"
   ]
  },
  {
   "cell_type": "code",
   "execution_count": null,
   "metadata": {},
   "outputs": [],
   "source": [
    "lista_nodict = [i for i in word_vector if i not in list(my_dct.keys())]"
   ]
  },
  {
   "cell_type": "code",
   "execution_count": null,
   "metadata": {},
   "outputs": [],
   "source": [
    "print('I need to download the meaning of ' + str(len(lista_nodict)) + ' words')"
   ]
  },
  {
   "cell_type": "code",
   "execution_count": null,
   "metadata": {},
   "outputs": [],
   "source": [
    "word_vector_final = list(set(word_vector)-set(lista_not_found)-set(lista_voc))"
   ]
  },
  {
   "cell_type": "markdown",
   "metadata": {},
   "source": [
    "### Salvando lista de não encontrados atualizada"
   ]
  },
  {
   "cell_type": "code",
   "execution_count": 1,
   "metadata": {},
   "outputs": [],
   "source": [
    "pickle_out = open('brecht_lista_not_found.pkl', 'wb')\n",
    "pickle.dump(list(set(brecht_not_found)), pickle_out)\n",
    "pickle_out.close()\n"
   ]
  }
 ],
 "metadata": {
  "kernelspec": {
   "display_name": "Python 3",
   "language": "python",
   "name": "python3"
  },
  "language_info": {
   "codemirror_mode": {
    "name": "ipython",
    "version": 3
   },
   "file_extension": ".py",
   "mimetype": "text/x-python",
   "name": "python",
   "nbconvert_exporter": "python",
   "pygments_lexer": "ipython3",
   "version": "3.7.5"
  }
 },
 "nbformat": 4,
 "nbformat_minor": 2
}
