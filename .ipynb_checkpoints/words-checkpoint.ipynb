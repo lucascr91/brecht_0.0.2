{
 "cells": [
  {
   "cell_type": "code",
   "execution_count": 7,
   "metadata": {},
   "outputs": [],
   "source": [
    "from pattern.de import parse, split\n",
    "from pattern.de import gender, MALE, FEMALE, NEUTRAL, Text, Sentence, WORD, POS, CHUNK, PNP, REL, LEMMA\n",
    "from pattern.de import parsetree\n",
    "from pattern.de import conjugate\n",
    "from pattern.de import INFINITIVE, PRESENT, SG, SUBJUNCTIVE\n",
    "import random\n",
    "from operator import itemgetter\n",
    "import pickle\n",
    "from gensim.utils import deaccent\n",
    "import colorama\n",
    "from colorama import Fore\n",
    "from colorama import Style"
   ]
  },
  {
   "cell_type": "code",
   "execution_count": 8,
   "metadata": {},
   "outputs": [],
   "source": [
    "from selenium import webdriver"
   ]
  },
  {
   "cell_type": "code",
   "execution_count": 9,
   "metadata": {},
   "outputs": [
    {
     "name": "stdout",
     "output_type": "stream",
     "text": [
      "Please, enter the txt file\n",
      "zeit.txt\n"
     ]
    }
   ],
   "source": [
    "print('Please, enter the txt file')\n",
    "arquivo = input()\n",
    "\n",
    "f =open(arquivo, 'r', encoding = 'utf-8')\n",
    "g = f.read()\n",
    "f.close()"
   ]
  },
  {
   "cell_type": "code",
   "execution_count": 11,
   "metadata": {},
   "outputs": [],
   "source": [
    "txt = parsetree(g, tags=True, chunk = False)"
   ]
  },
  {
   "cell_type": "code",
   "execution_count": null,
   "metadata": {},
   "outputs": [],
   "source": [
    "sents = txt.sentences"
   ]
  },
  {
   "cell_type": "code",
   "execution_count": null,
   "metadata": {},
   "outputs": [],
   "source": [
    "lista_elements = list(set([sents[i].words[j].string \n",
    "                           for i in range(0,len(sents)) \n",
    "                           for j in range(0,len(sents[i].words))]))\n",
    "lista_nouns_t = [deaccent(i.lower()) for i in lista_elements if i.isalpha()]"
   ]
  },
  {
   "cell_type": "markdown",
   "metadata": {},
   "source": [
    "### Abrindo vocabulário"
   ]
  },
  {
   "cell_type": "code",
   "execution_count": null,
   "metadata": {},
   "outputs": [],
   "source": [
    "pickle_in = open('lista_voc.pkl', 'rb')\n",
    "lista_voc = pickle.load(pickle_in)"
   ]
  },
  {
   "cell_type": "code",
   "execution_count": null,
   "metadata": {},
   "outputs": [],
   "source": [
    "unique_voc = list(set(lista_voc))\n",
    "unique_txt = list(set(lista_nouns_t))"
   ]
  },
  {
   "cell_type": "code",
   "execution_count": null,
   "metadata": {},
   "outputs": [],
   "source": [
    "intersection = [i for i in unique_txt if i in unique_voc]"
   ]
  },
  {
   "cell_type": "code",
   "execution_count": null,
   "metadata": {},
   "outputs": [],
   "source": [
    "rz = len(intersection)/len(lista_nouns_t)"
   ]
  },
  {
   "cell_type": "code",
   "execution_count": null,
   "metadata": {},
   "outputs": [],
   "source": [
    "print(\"I identify \" + str(len(lista_nouns_t)) + \" unique words.\")\n",
    "print('You know ' + str(round(rz*100,2)) + '% of them')\n",
    "print('How many words do you wanna play now?')\n",
    "m= int(input())"
   ]
  },
  {
   "cell_type": "markdown",
   "metadata": {},
   "source": [
    "### Abrindo o dicionário"
   ]
  },
  {
   "cell_type": "code",
   "execution_count": null,
   "metadata": {},
   "outputs": [],
   "source": [
    "pickle_in = open('dict.pickle', 'rb')\n",
    "my_dct = pickle.load(pickle_in)"
   ]
  },
  {
   "cell_type": "markdown",
   "metadata": {},
   "source": [
    "### Abrindo lista de não encontrados"
   ]
  },
  {
   "cell_type": "code",
   "execution_count": null,
   "metadata": {},
   "outputs": [],
   "source": [
    "pickle_in2 = open('lista_not_found.pkl', 'rb')\n",
    "lista_not_found = pickle.load(pickle_in2)"
   ]
  },
  {
   "cell_type": "markdown",
   "metadata": {},
   "source": [
    "### Criando um vetor com o número de palavras solicitadas pelo usuário a partir do número total de palavras do texto"
   ]
  },
  {
   "cell_type": "code",
   "execution_count": null,
   "metadata": {},
   "outputs": [],
   "source": [
    "s = random.sample(list(range(0,len(lista_nouns_t))),m)"
   ]
  },
  {
   "cell_type": "code",
   "execution_count": null,
   "metadata": {},
   "outputs": [],
   "source": [
    "word_vector = itemgetter(*s)(lista_nouns_t)"
   ]
  },
  {
   "cell_type": "markdown",
   "metadata": {},
   "source": [
    "### Selecionando palavras que não tem no dicionário"
   ]
  },
  {
   "cell_type": "code",
   "execution_count": null,
   "metadata": {},
   "outputs": [],
   "source": [
    "lista_nodict = [i for i in word_vector if i not in list(my_dct.keys())]"
   ]
  },
  {
   "cell_type": "code",
   "execution_count": null,
   "metadata": {},
   "outputs": [],
   "source": [
    "print('I need to download the meaning of ' + str(len(lista_nodict)) + ' words')"
   ]
  },
  {
   "cell_type": "code",
   "execution_count": null,
   "metadata": {},
   "outputs": [],
   "source": [
    "word_vector_final = list(set(word_vector)-set(lista_not_found)-set(lista_voc))"
   ]
  },
  {
   "cell_type": "markdown",
   "metadata": {},
   "source": [
    "### Fazendo upgrade no dicionário com as palavras que faltam"
   ]
  },
  {
   "cell_type": "code",
   "execution_count": null,
   "metadata": {},
   "outputs": [],
   "source": [
    "if list(set(word_vector_final)-set(my_dct.keys()))!=[]:\n",
    "    for n in list(set(word_vector_final)-set(my_dct.keys())):\n",
    "            driver = webdriver.Firefox()\n",
    "            driver.get('https://www.collinsdictionary.com/dictionary/german-english/{}'.format(n))\n",
    "            word = driver.find_elements_by_xpath('//div[@class=\"sense\"]')\n",
    "            if word!=[]:\n",
    "                my_dct[n] = word[0].text\n",
    "            else:\n",
    "                lista_not_found.append(n)\n",
    "            driver.close()"
   ]
  },
  {
   "cell_type": "markdown",
   "metadata": {},
   "source": [
    "### Salvando lista de não encontrados atualizada"
   ]
  },
  {
   "cell_type": "code",
   "execution_count": null,
   "metadata": {},
   "outputs": [],
   "source": [
    "pickle_out = open('lista_not_found.pkl', 'wb')\n",
    "pickle.dump(list(set(lista_not_found)), pickle_out)\n",
    "pickle_out.close()"
   ]
  },
  {
   "cell_type": "markdown",
   "metadata": {},
   "source": [
    "### Salvando o dicionário atualizado"
   ]
  },
  {
   "cell_type": "code",
   "execution_count": null,
   "metadata": {},
   "outputs": [],
   "source": [
    "pickle_out = open('dict.pickle', 'wb')\n",
    "pickle.dump(my_dct, pickle_out)\n",
    "pickle_out.close()"
   ]
  },
  {
   "cell_type": "markdown",
   "metadata": {},
   "source": [
    "### Selecionando palavras encontradas"
   ]
  },
  {
   "cell_type": "code",
   "execution_count": null,
   "metadata": {},
   "outputs": [],
   "source": [
    "current_dict = {k: my_dct[k] for k in word_vector_final if k in my_dct}"
   ]
  },
  {
   "cell_type": "code",
   "execution_count": null,
   "metadata": {},
   "outputs": [],
   "source": [
    "print('I could not find the meaning of '+ str(len(word_vector)-len(current_dict)) + ' words.' + '\\n' +\n",
    "'So you will play the game with ' + str(len(current_dict)) )"
   ]
  },
  {
   "cell_type": "code",
   "execution_count": null,
   "metadata": {},
   "outputs": [],
   "source": [
    "answer2 = 'Ja'\n",
    "\n",
    "while answer2 == 'Ja':\n",
    "    my_dct2 = current_dict.copy()\n",
    "    somenoun = random.sample(my_dct2.keys(), 1)[0]\n",
    "    while somenoun !='':\n",
    "        print('Do you know the meaning of the word \"{}\"?'.format(somenoun))\n",
    "        answer1 = input()\n",
    "        if answer1 == 'Nein':\n",
    "            print(Fore.YELLOW + my_dct2[somenoun])\n",
    "            print(Style.RESET_ALL)\n",
    "            somenoun = random.sample(my_dct2.keys(), 1)[0]\n",
    "        elif answer1 == 'vocabulary':\n",
    "            lista_voc.append(somenoun)\n",
    "            del my_dct2[somenoun]\n",
    "            if my_dct2 !={}:\n",
    "                somenoun = random.sample(my_dct2.keys(), 1)[0]\n",
    "            else:\n",
    "                print('Congratulations! You know all words from this text!')\n",
    "                somenoun =''\n",
    "        elif answer1 == 'wichtig':\n",
    "            f = open('wichtig.txt', 'r')\n",
    "            h = f.read()\n",
    "            f.close()\n",
    "            l = h + ' '+ str(somenoun)\n",
    "            f = open('wichtig.txt', 'w')\n",
    "            f.write(l)\n",
    "            f.close()         \n",
    "            \n",
    "#             del my_dct2[somenoun]\n",
    "            if my_dct2 !={}:\n",
    "                somenoun = random.sample(my_dct2.keys(), 1)[0]\n",
    "            else:\n",
    "                print('Congratulations! You know all words from this text!')\n",
    "                somenoun =''\n",
    "        else:\n",
    "            del my_dct2[somenoun]\n",
    "            if my_dct2 !={}:\n",
    "                somenoun = random.sample(my_dct2.keys(), 1)[0]\n",
    "            else:\n",
    "                print('Congratulations! You know all words from this text!')\n",
    "                somenoun =''\n",
    "            \n",
    "    print('Do you want to play this game again?')\n",
    "    answer2 = input()\n",
    "else:\n",
    "    print(\"Bye!\")"
   ]
  },
  {
   "cell_type": "markdown",
   "metadata": {},
   "source": [
    "### Salvando vocabulário (lista)"
   ]
  },
  {
   "cell_type": "code",
   "execution_count": null,
   "metadata": {},
   "outputs": [],
   "source": [
    "pickle_out = open('lista_voc.pkl', 'wb')\n",
    "pickle.dump(list(set(lista_voc)), pickle_out)\n",
    "pickle_out.close()"
   ]
  },
  {
   "cell_type": "code",
   "execution_count": null,
   "metadata": {},
   "outputs": [],
   "source": [
    "print('Now you know ' + str(len(list(set(lista_voc)))) + ' words in German')"
   ]
  }
 ],
 "metadata": {
  "kernelspec": {
   "display_name": "Python_3_6",
   "language": "python",
   "name": "python_3_6"
  },
  "language_info": {
   "codemirror_mode": {
    "name": "ipython",
    "version": 3
   },
   "file_extension": ".py",
   "mimetype": "text/x-python",
   "name": "python",
   "nbconvert_exporter": "python",
   "pygments_lexer": "ipython3",
   "version": "3.7.5"
  }
 },
 "nbformat": 4,
 "nbformat_minor": 2
}
