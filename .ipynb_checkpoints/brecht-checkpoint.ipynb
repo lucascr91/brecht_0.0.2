{
 "cells": [
  {
   "cell_type": "code",
   "execution_count": 18,
   "metadata": {},
   "outputs": [],
   "source": [
    "import pickle\n",
    "import spacy\n",
    "from selenium import webdriver\n",
    "nlp = spacy.load('de')"
   ]
  },
  {
   "cell_type": "markdown",
   "metadata": {},
   "source": [
    "## Opening local dictionary"
   ]
  },
  {
   "cell_type": "code",
   "execution_count": 2,
   "metadata": {},
   "outputs": [],
   "source": [
    "pickle_in = open('brecht_dict.pkl', 'rb')\n",
    "brecht_dict = pickle.load(pickle_in)"
   ]
  },
  {
   "cell_type": "markdown",
   "metadata": {},
   "source": [
    "## Opening not found list"
   ]
  },
  {
   "cell_type": "code",
   "execution_count": 4,
   "metadata": {},
   "outputs": [],
   "source": [
    "pickle_in2 = open('brecht_lista_not_found.pkl', 'rb')\n",
    "lista_not_found = pickle.load(pickle_in2)"
   ]
  },
  {
   "cell_type": "code",
   "execution_count": 63,
   "metadata": {},
   "outputs": [],
   "source": [
    "class Text():\n",
    "    def __init__(self, file):\n",
    "        self.file = file\n",
    "    @property\n",
    "    def actual_text(self):\n",
    "        f =open(self.file, 'r', encoding = 'utf-8')\n",
    "        text = f.read()\n",
    "        f.close()\n",
    "        \n",
    "        return text\n",
    "    \n",
    "    @property\n",
    "    def doc(self):\n",
    "        parsed_text = nlp(self.actual_text)\n",
    "        \n",
    "        return parsed_text\n",
    "        \n",
    "    @property\n",
    "    def verbs(self):\n",
    "        verbs = [token.lemma_ for token in self.doc if token.pos_ == \"VERB\"]\n",
    "        \n",
    "        return verbs\n",
    "    \n",
    "    @property\n",
    "    def nouns(self):\n",
    "        nouns = [token.lemma_ for token in self.doc if token.pos_ == \"NOUN\"]\n",
    "        \n",
    "        return nouns"
   ]
  },
  {
   "cell_type": "code",
   "execution_count": 42,
   "metadata": {},
   "outputs": [],
   "source": [
    "class Words():\n",
    "    def __init__(self, value, g_class, first_meaning = True):\n",
    "        self.value = value\n",
    "        self.g_class = g_class\n",
    "        self.first_meaning = first_meaning\n",
    "    #attribute meaning\n",
    "    meaning = ''\n",
    "    #is the word in my local dictionary?\n",
    "    @property\n",
    "    def meaning(self):\n",
    "        if self.value in brecht_dict.keys():\n",
    "            return brecht_dict[self.value]\n",
    "        #so, get it it online\n",
    "        else:\n",
    "            driver = webdriver.Firefox()\n",
    "            driver.get('https://de.thefreedictionary.com/{}'.format(self.value))\n",
    "            word = driver.find_elements_by_xpath('//div[@id=\"Definition\"]')\n",
    "            if word!=[]:\n",
    "                brecht_dict[self.value] = word[0].text\n",
    "                if self.first_meaning:\n",
    "                    return word[0].text[:word[0].text.find('2.')]\n",
    "                else:\n",
    "                    return word[0].text\n",
    "            else:\n",
    "                lista_not_found.append(self.value)\n",
    "                return print('I could not find this word')\n",
    "            driver.close()\n",
    "        #method to print value\n",
    "        def __str__(self):\n",
    "            return self.value"
   ]
  },
  {
   "cell_type": "code",
   "execution_count": null,
   "metadata": {},
   "outputs": [],
   "source": [
    "if __name__ == '__main__': # para testar no terminal\n",
    "    word1 = Words('Beispiel', g_class = 'noun')\n",
    "    print(word1)\n",
    "    print(word1.g_class)"
   ]
  }
 ],
 "metadata": {
  "kernelspec": {
   "display_name": "Python 3",
   "language": "python",
   "name": "python3"
  },
  "language_info": {
   "codemirror_mode": {
    "name": "ipython",
    "version": 3
   },
   "file_extension": ".py",
   "mimetype": "text/x-python",
   "name": "python",
   "nbconvert_exporter": "python",
   "pygments_lexer": "ipython3",
   "version": "3.7.5"
  }
 },
 "nbformat": 4,
 "nbformat_minor": 2
}
